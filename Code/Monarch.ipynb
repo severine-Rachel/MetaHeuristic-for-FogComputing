{
 "cells": [
  {
   "cell_type": "markdown",
   "metadata": {},
   "source": [
    "# Projet d'optimisation pour du \"task offloading\" avec Levy Flight\n",
    "\n",
    "## Problème d'optimisation\n",
    "\n",
    "Le problème d'optimisation fait suite à l'amélioration exponentielle du Big Data, (IOT, véhicules autonomes ...) qui font que le nombre de données en temps réel est de plus en plus important. Le nombre de données en temps réel (flux) devant être traitées rapidement a explosé.\n",
    "\n",
    "Les clouds fournient de nombreuses ressources pour des calculs massifs. Cependant, les clouds centralisées sont surchargés par les flux de données, ce qui entraîne une consommation d'énergie importante et des retards.\n",
    "\n",
    "C'est pour cette raison que l'on utilise désormais le fog computing, dont l'architecture permet de déterminer où le calcul doit être effectué : sur la machine locale, sur le fog layer ou sur le cloud. Le fog layer comprend des\n",
    "routeurs, des commutateurs et des micro-serveurs (fog node) qui sont plus proches de la machine locale que le cloud, et qui peuvent être utilisés par les utilisateurs. \n",
    "\n",
    "Notre objectif est de développer un programme qui associe les fognode fN aux tâches à effectuer.\n",
    "\n",
    "Nous avons pour cela modéliser notre problème comme suit :\n",
    "\n",
    "$$\\min\\limits_{X_i} \\sum\\limits_{i = 1}^N X_i\\frac{P_i-P^{min}}{P^{max}-P^{min}}$$\n",
    "$$\\min\\limits_{X_i} \\sum\\limits_{i = 1}^N X_i\\frac{D_i-D^{min}}{D^{max}-D^{min}}$$\n",
    "$$ s.t. \\sum\\limits_{i = 1}^N X_i-M=0$$\n",
    "$$\\sum\\limits_{i = 1}^N \\frac{B_i}{B_{i,S}} \\quad \\quad - 1 < 0 \\\\$$\n",
    "$$W_j \\in [0,1], \\forall j \\in \\{1, 2, 3\\}\\\\$$\n",
    "$$T_{j,i} \\in [0,1], \\forall j \\in \\{1, 2, 3\\}, \\forall i \\in [\\![1, N]\\!]\\\\$$\n",
    "$$X_i \\in \\{0,1\\}, \\forall i \\in [\\![1, N]\\!]\\\\$$\n",
    "\n",
    "$P_i = P_i*\\frac{l\\tau_i}{f_i}$ la puissance pour traiter l bit de donnée sachant que 1 bit de donnée est traités sur $\\tau_i$ cycle de CPU sur la fréquence du CPU (afin de déterminer le temps de calcul nécessaire pour l bits) fois la puissance requise pour un cycle $P_i*$. $P^{min}$ et $D^{min}$ représentent respectivement les FN de tout le système avec la plus petite puissance consommé et le retard le plus court, à l'inverse, $P^{max}$ et $D^{max}$ représentent respectivement les FN de tout le système avec la plus grande puissance consommé et le retard le plus long, le but est de normalisé les valeurs. \n",
    "\n",
    "$D_i$ est déterminé avec des courbe de service d'entré et de sortie déterminé par du calcul de réseau.\n",
    "\n",
    "La première fonction objectif permet de minimiser la puissance consommé lors dans l'assignation. La seconde contrainte est la minimisation du retard totale du système. La première contrainte permet d'allouer exactement M FN au M taches. La quatrième permet de vérifier que la taille de traitement d'opération disponible dans le FN (buffer $B_{i,S}$) est suffisante pour traiter la taille de la tache $B_i$. \n",
    "\n",
    "Or ce problème suppose que le problème d'allocation d'une tache à un FN signifie que tous les FN ne seront pas alloué et que toutes les tâches soient les mêmes, c'est à dire : pour 4 sous taches répparti sur 7 FN disponibles, je dois trouver une solution de la forme [1, 1, 1, 1, 0, 0, 0] optimal. Cependant, nous voyons clairement sur la recherche que pour des FN identiques assignés à des tâches différentes, la valeur d'assignement est différente : \n",
    "\n",
    "\n",
    "<img src=\"table_assignement_FN.PNG\" alt=\"assignement FN\" height=\"300\" />\n",
    "\n",
    "Ce qui signifie que chaque tâches réparties entre les FN ont des caractéristiques différentes.\n",
    "\n",
    "C'est pour cette raison que nous cherchons plutôt à modéliser les solutions sous la forme d'un tableau de toutes les tâches alloués au FN choisi de la forme [FN1, FN3, FN4, FN2, FN1] ou le premier indice indique la première tâche et le nième indice indique la nième tâche.\n",
    "\n",
    "Nous pouvons donc réécrire le problème :\n",
    "\n",
    "$$\\min\\limits_{X_{i,j}} \\sum\\limits_{i = 1}^N X_{i,j}P_{i,j}$$\n",
    "$$\\min\\limits_{X_{i,j}} \\sum\\limits_{i = 1}^N X_{i,j}D_{i,j}$$\n",
    "$$ s.t. \\sum\\limits_{i = 1}^N X_{i,j}-M=0$$\n",
    "$$\\sum\\limits_{i = 1}^N \\frac{B_{i,j}}{B_{i,j,S}} \\quad \\quad - 1 < 0 \\\\$$\n",
    "$$\\sum\\limits_{i = 1}^N X_{i,j} = \\sum\\limits_{j = 1}^M X_{i,j} = 1\\\\$$\n",
    "$$X_i \\in \\{0,1\\}, \\forall i \\in [\\![1, N]\\!]\\\\$$\n",
    "\n",
    "\n",
    "Ainsi nous travaillerons sur un environnement similaire fournis par les tableau de Cost et de temps d'éxecution. Nous supposerons aussi que la contrainte du buffer est naturellement respectée.\n",
    "\n",
    "## Algorithme d'optimisation Monarch\n",
    "\n",
    "Cet algorithme s'inspire du comportement migratoire des papillons Monarques lorsqu'ils doivent s'orienté dans de nouveaux environnement en suivant certain individus qui ont de meilleurs probabilité de s'orienter. En imitant ce comportement, notre algorithme cherche à garder une mémoire au long terme sur les comportements à adopter.\n",
    "\n",
    "<img src=\"migration_monarque.jpg\" alt=\"migration monarque\" height=\"300\" />\n",
    "\n",
    "L'algorithme monarque est clairement utilisé pour des problèmes d'optimisation à variables réelles.\n",
    "Pour faire correspondre l'algorithme Monarch au problème spécifique, Nous avons défini les étapes de process comme suit :\n",
    "\n",
    "MONARCH :\n",
    "- Créer N solutions possibles réuni dans une population\n",
    "- diviser N dans deux sous populations NP1 et NP2\n",
    "- pour chaque élément de chaque solution sur NP1 :\n",
    "    1 - générer  un nombre aléatoirement sur une loi uniforme \n",
    "    2 - comparer ce nombre a une variable p fixée\n",
    "        - si p est supérieur: copier un élément d'une autre solution de NP1 sur l'élément actuel\n",
    "        - si p est inférieur: copier un élément d'une autre solution de NP2 sur l'élément actuel\n",
    "- pour chaque élément de chaque solution de NP2:\n",
    "     1 - générer  un nombre aléatoirement sur une loi normal \n",
    "     2 - comparer ce nombre a une variable p fixée\n",
    "        - si p est supérieur: copier l'élément de la meilleur solution de toute la population sur l'élément actuel\n",
    "        - si p est inférieur: copier un élément d'une autre solution de NP2 sur l'élément actuel\n",
    "- Évaluer les nouvelles solutions\n",
    "- Générer une nouvelle population avec toutes les solutions des rangs les moins dominés\n",
    "- Critère d'arrêt : itération d'algorithme\n",
    "\n",
    "La principale caractéritisque de cette méthode est la probabilité de copier des éléments venant directement d'une des meilleure solutions (du front pareto ou du rang le plus proche du front pareto) garantissant la mémoire à long terme des mouvements à effectuer.\n"
   ]
  },
  {
   "cell_type": "code",
   "execution_count": 1,
   "metadata": {},
   "outputs": [],
   "source": [
    "import numpy as np\n",
    "import matplotlib.pyplot as plt\n",
    "from copy import deepcopy\n",
    "import time"
   ]
  },
  {
   "cell_type": "markdown",
   "metadata": {},
   "source": [
    "## Deux datasets CostTable et ExecutionTable\n",
    "\n",
    "CostTable représente le cout énergétique d'éxécuter chaque tâche sur chacun des FN.\n",
    "\n",
    "ExecutionTable représente le délai d'éxecution de chaque tâche sur chaque FN.\n",
    "\n"
   ]
  },
  {
   "cell_type": "code",
   "execution_count": 2,
   "metadata": {},
   "outputs": [],
   "source": [
    "cost_table = np.genfromtxt('CostTable40.csv', delimiter=',', skip_header=1)\n",
    "cost_table = cost_table[:, 1:] # clean le dataset\n",
    "execution_table = np.genfromtxt('ExecutionTable40.csv', delimiter=',', skip_header=1)\n",
    "execution_table = execution_table[:, 1:] # clean le dataset"
   ]
  },
  {
   "cell_type": "markdown",
   "metadata": {},
   "source": [
    "On génère une population de façon aléatoire, dans chaque individu l'emplacement correspond à la tâche effectué et le nombre entier naturel généré est le FN qui lui est assigné."
   ]
  },
  {
   "cell_type": "code",
   "execution_count": 3,
   "metadata": {},
   "outputs": [],
   "source": [
    "# Génerer un monarque aléatoire en donnant une liste de même temps que le nombre de tâche\n",
    "def generate_solution(solution: list):\n",
    "    for i in range (0, len(cost_table[0])):\n",
    "        solution[i] = np.random.randint(1, len(cost_table)+1)\n",
    "# Génerer une population de 20 monarques aléatoires\n",
    "def generate_population():\n",
    "    Population : list = []\n",
    "    for i in range(0, 20):\n",
    "        solution = [0] * (cost_table[0])\n",
    "        generate_solution(solution)\n",
    "        Population.append(solution)\n",
    "    print(Population)\n",
    "    return Population\n",
    "\n"
   ]
  },
  {
   "cell_type": "markdown",
   "metadata": {},
   "source": [
    "On crée une fonction qui évalue le cout de notre allocation et une fonction qui évalue le temps total.\n",
    "\n",
    "Le temps total est évalué comme suit : Chaque Tache rentrera à peu près en même temps dans tous les FN donc le délai total du système correspond au délai du FN qui prendra le plus de retard:\n",
    "\n",
    "$D = max({D_i}  \\forall i \\in M)$"
   ]
  },
  {
   "cell_type": "code",
   "execution_count": 4,
   "metadata": {},
   "outputs": [],
   "source": [
    "# fonction pour évaluer la solution sur la fonction objectif de consommation de puissance\n",
    "def cost(monarch):\n",
    "    Total_Cost = 0\n",
    "    for i in range(len(monarch)):\n",
    "        task = i\n",
    "        node = int(monarch[i] -1)\n",
    "        Total_Cost += cost_table[node, task]\n",
    "    return Total_Cost"
   ]
  },
  {
   "cell_type": "code",
   "execution_count": 5,
   "metadata": {},
   "outputs": [],
   "source": [
    "# fonction pour évaluer la solution sur la fonction objectif de temps\n",
    "def delay(monarch):\n",
    "    Total_Time, N1_Time, N2_Time, N3_Time, N4_Time, N5_Time, N6_Time, N7_Time, N8_Time, N9_Time, N10_Time, N11_Time, N12_Time, N13_Time = 0,0,0,0,0,0,0,0,0,0,0,0,0,0\n",
    "    for i in range(len(monarch)):\n",
    "        task = i\n",
    "        node = int(monarch[i])\n",
    "        if node == 1:\n",
    "            N1_Time +=  execution_table[node -1, task]\n",
    "        elif node == 2:\n",
    "            N2_Time +=  execution_table[node -1, task]\n",
    "        elif node == 3:\n",
    "            N3_Time +=  execution_table[node -1, task]\n",
    "        elif node == 4:\n",
    "            N4_Time +=  execution_table[node -1, task]\n",
    "        elif node == 5:\n",
    "            N5_Time +=  execution_table[node -1, task]\n",
    "        elif node == 6:\n",
    "            N6_Time +=  execution_table[node -1, task]\n",
    "        elif node == 7:\n",
    "            N7_Time +=  execution_table[node -1, task]\n",
    "        elif node == 8:\n",
    "            N8_Time +=  execution_table[node -1, task]\n",
    "        elif node == 9:\n",
    "            N9_Time +=  execution_table[node -1, task]\n",
    "        elif node == 10:\n",
    "            N10_Time +=  execution_table[node -1, task]\n",
    "        elif node == 11:\n",
    "            N11_Time +=  execution_table[node -1, task]\n",
    "        elif node == 12:\n",
    "            N12_Time +=  execution_table[node -1, task]\n",
    "        elif node == 13:\n",
    "            N13_Time +=  execution_table[node -1, task]\n",
    "    Total_Time = max(N1_Time, N2_Time, N3_Time, N4_Time, N5_Time, N6_Time, N7_Time, N8_Time, N9_Time, N10_Time, N11_Time, N12_Time, N13_Time)\n",
    "    return Total_Time"
   ]
  },
  {
   "cell_type": "markdown",
   "metadata": {},
   "source": [
    "## Algorithme Monarque \n",
    "Algorithme divisé en deux parties pour chaque population:\n",
    "- Migration_operator : La population NP1 copie simplement soit les mouvement d'un individu de la même population, soit les mouvement d'un individu de l'autre population.\n",
    "\n",
    "<img src=\"migration_operator.png\" alt=\"migration operator\" height=\"300\" />\n",
    "\n",
    "\n",
    "\n",
    "- Adjusting_operator : La population NP2 copie soit un individu de sa population, soit les caractéristique du meilleur individu de l'autre population.\n",
    "\n",
    "<img src=\"adjusting_operator.png\" alt=\"adjusting operator\" height=\"300\" />\n",
    "\n",
    "Ainsi les deux populations s'inspire entre elle sachant que l'une à des chance de garder des bons critère venant d'un papillon\n",
    "\n",
    "Il est important de noté que le nombre d'invidu total généré doit être important pour ne pas tomber dans des minimum locaux."
   ]
  },
  {
   "cell_type": "code",
   "execution_count": 6,
   "metadata": {},
   "outputs": [],
   "source": [
    "# fonction pour modifier les monarques sur NP1 (permute leur génome avec celui d'un autre monarque à la même place)\n",
    "def migration_operator(NP1, NP2, p):\n",
    "    for indexMonarch in range (len(NP1)):\n",
    "        for indexGenome in range (len(NP1[indexMonarch])):\n",
    "            tirage = np.random.rand()\n",
    "            if tirage < p:\n",
    "                autremonarch = int(np.random.randint(0, len(NP1)))\n",
    "                NP1[indexMonarch][indexGenome]=NP1[autremonarch][indexGenome]\n",
    "            else:\n",
    "                autremonarch = np.random.randint(0, len(NP2))\n",
    "                NP1[indexMonarch][indexGenome]=NP2[autremonarch][indexGenome]\n",
    "    return NP1\n",
    "def is_dominated(monarch1, monarch2):\n",
    "    CostMonarch1 = cost(monarch1)\n",
    "    TimeMonarch1 = delay(monarch1)\n",
    "    CostMonarch2 = cost(monarch2)\n",
    "    TimeMonarch2 = delay(monarch2)\n",
    "    if CostMonarch1 > CostMonarch2 and TimeMonarch1 > TimeMonarch2:\n",
    "        #print(\"monarch 1 dominated\")\n",
    "        return True\n",
    "    else:\n",
    "        return False\n",
    "\n",
    "\n",
    "def determineBestNP1(NP1):\n",
    "    # choisi un monarque aléatoirement tant que le monarque n'est pas dominé\n",
    "    # A tester : utiliser une méthode de distance parmi les monarque non dominé pour choisir le plus utils\n",
    "    bestMonarch = NP1[0]\n",
    "    for monarch in NP1:\n",
    "        if is_dominated(bestMonarch, monarch):\n",
    "            bestMonarch = monarch\n",
    "    return bestMonarch\n",
    "\n",
    "# fonction pour modifier les monarques sur NP2 (permute leur génome avec celui d'un autre monarque à la même place)\n",
    "def adjusting_operator(NP1, NP2, p):\n",
    "    for indexMonarch in range (len(NP2)):\n",
    "        for indexGenome in range (len(NP2[indexMonarch])):\n",
    "            tirage = np.random.rand()\n",
    "            if tirage < p:\n",
    "                # Ici on choisit de permuter avec un génome d'un monarque établi comme non dominé choisi dans determineBestNP1\n",
    "                NP2[indexMonarch][indexGenome]=determineBestNP1(NP1)[indexGenome]\n",
    "            else:\n",
    "                autremonarch = np.random.randint(0, len(NP2))\n",
    "                NP2[indexMonarch][indexGenome]=NP2[autremonarch][indexGenome]\n",
    "    return NP2\n",
    "\n"
   ]
  },
  {
   "cell_type": "markdown",
   "metadata": {},
   "source": [
    "## Solutions générées par le Monarch\n",
    "Une fois générées, les solutions seront trié pour savoir lesquels appartiennent à quels rangs, cette fonction peut être relancé plusieurs fois afin de déterminer, le front pareto, puis le deuxième rang, et ainsi de suite..."
   ]
  },
  {
   "cell_type": "code",
   "execution_count": 7,
   "metadata": {},
   "outputs": [],
   "source": [
    "# retourne deux listes, une avec les monarques non dominé, l'autre avec le reste des monarques (de plusieurs rangs)\n",
    "def domination_sort(GroupMonarchs):\n",
    "    Front = []\n",
    "    Second = []\n",
    "    for monarch1 in GroupMonarchs:\n",
    "        dominated_coeffiscient = 0\n",
    "        for monarch2 in GroupMonarchs:\n",
    "            if is_dominated(monarch1, monarch2):\n",
    "                dominated_coeffiscient += 1\n",
    "        if dominated_coeffiscient == 0:\n",
    "            Front.append(monarch1)\n",
    "        else:\n",
    "            Second.append(monarch1)\n",
    "    return Front, Second"
   ]
  },
  {
   "cell_type": "markdown",
   "metadata": {},
   "source": [
    "## INITIALISATION"
   ]
  },
  {
   "cell_type": "code",
   "execution_count": 8,
   "metadata": {},
   "outputs": [
    {
     "name": "stdout",
     "output_type": "stream",
     "text": [
      "[array([ 7., 12.,  7.,  3.,  5.,  1.,  7.,  9.,  9., 13.,  9.,  1., 10.,\n",
      "        9., 12., 11.,  6.,  5.,  2.,  3.,  9.,  7.,  7., 12.,  9.,  5.,\n",
      "        8.,  9.,  8.,  3.,  5.,  6., 11., 10., 11., 13.,  5.,  8.,  7.,\n",
      "        4.]), array([ 9.,  5.,  2., 12.,  3.,  5.,  9.,  2.,  4.,  9., 10., 13.,  6.,\n",
      "        6.,  9., 11., 10.,  8.,  4., 11.,  6.,  6., 10.,  8., 10.,  5.,\n",
      "        6., 12., 11.,  4., 11.,  7.,  8., 11.,  1.,  9., 12.,  2., 13.,\n",
      "        7.]), array([ 9., 12.,  7.,  2.,  3., 11., 13.,  6., 11., 11.,  1.,  5., 13.,\n",
      "        2.,  3.,  4.,  7.,  9.,  4.,  6.,  3., 11.,  2.,  9.,  1.,  8.,\n",
      "        7., 11.,  3.,  8.,  7.,  4., 12.,  4.,  2.,  9., 13., 13.,  9.,\n",
      "        8.]), array([ 4.,  9.,  9., 12.,  1.,  3.,  7., 13.,  5.,  7.,  6.,  4.,  5.,\n",
      "        9.,  3., 13., 10.,  9.,  3.,  7.,  4.,  9.,  4., 10.,  5.,  5.,\n",
      "        6., 13., 12.,  7., 12., 10.,  6.,  3.,  6., 12.,  2.,  7.,  1.,\n",
      "        9.]), array([ 5.,  4.,  3.,  8.,  4.,  2.,  2.,  3.,  3.,  6.,  6.,  2.,  9.,\n",
      "        3., 11.,  7., 13., 11.,  7., 11.,  2.,  6.,  3., 10.,  8., 11.,\n",
      "        2., 11.,  6., 11.,  1.,  2., 11.,  5., 12.,  6., 13., 13.,  8.,\n",
      "        6.]), array([ 6.,  4., 13.,  2.,  2.,  1., 10.,  3., 11.,  9.,  9.,  4.,  2.,\n",
      "        9.,  6.,  2.,  8.,  9., 13.,  9., 12.,  8.,  1.,  7.,  6., 11.,\n",
      "        2.,  6.,  1.,  1.,  5.,  3.,  8., 11.,  8., 12., 12., 11., 10.,\n",
      "        2.]), array([12.,  6.,  2.,  1.,  5.,  9.,  3., 11.,  8.,  8.,  2.,  7., 11.,\n",
      "        9.,  9., 10., 11.,  4.,  5.,  7., 13.,  7., 12.,  6., 13.,  6.,\n",
      "        3.,  2.,  7., 10.,  3., 10.,  5.,  7.,  3.,  7.,  7., 13.,  9.,\n",
      "        3.]), array([ 8.,  7., 10.,  8., 12.,  9., 11.,  1.,  1.,  6.,  8., 12.,  6.,\n",
      "       12.,  2.,  1.,  4., 11.,  1.,  9., 11., 13., 13.,  5., 11.,  8.,\n",
      "        2., 11.,  7., 13.,  7.,  5., 11.,  4.,  3.,  6.,  3.,  5.,  5.,\n",
      "        6.]), array([ 4.,  5.,  5., 13., 13.,  3.,  1.,  7.,  3., 11., 13., 13., 11.,\n",
      "        7.,  8.,  4., 13.,  7.,  4.,  3.,  9.,  5., 12.,  6.,  3.,  3.,\n",
      "        8., 11.,  1.,  9.,  4.,  7.,  4.,  6., 12.,  9., 10., 13.,  2.,\n",
      "        3.]), array([ 5.,  8.,  7.,  6.,  5.,  9.,  8., 13.,  1.,  8.,  5.,  4.,  8.,\n",
      "        4., 12., 13., 11.,  3., 10.,  3., 10.,  5., 13.,  4., 11.,  2.,\n",
      "        4., 11.,  4.,  6., 13.,  6.,  6., 12.,  9.,  8.,  3.,  8.,  7.,\n",
      "       11.]), array([ 7., 10.,  7.,  5., 13.,  3.,  6.,  7.,  9.,  2., 11., 10.,  5.,\n",
      "        6., 13., 10.,  1.,  2.,  9., 11.,  5.,  5.,  2.,  2.,  6.,  9.,\n",
      "        3.,  4., 11.,  9.,  8., 13.,  2.,  1.,  5.,  1., 11., 10.,  7.,\n",
      "        4.]), array([ 2.,  9., 12., 12.,  3.,  5., 12.,  3., 12.,  2., 11., 10.,  6.,\n",
      "        1.,  7., 11.,  4.,  9.,  4.,  6., 11.,  1., 11.,  9., 10.,  5.,\n",
      "       12., 12.,  5.,  2.,  3.,  4.,  9.,  9.,  3.,  4., 10.,  4.,  5.,\n",
      "        3.]), array([ 7.,  8.,  5.,  4.,  2.,  9.,  8.,  8.,  7., 11., 11.,  7., 11.,\n",
      "        1.,  9.,  7., 13.,  8.,  8.,  5.,  9.,  8.,  9.,  9.,  9.,  2.,\n",
      "        6.,  4.,  6.,  5.,  2.,  4., 13.,  8.,  4.,  9.,  6.,  7., 11.,\n",
      "        2.]), array([10.,  1.,  4.,  3.,  5.,  8.,  3.,  7.,  7.,  5., 13., 13., 13.,\n",
      "        3.,  7.,  5.,  3.,  1., 12.,  5.,  5.,  4.,  2.,  3.,  9., 11.,\n",
      "        8., 10.,  8.,  7.,  9., 12.,  6.,  1.,  9.,  6.,  2., 12.,  5.,\n",
      "        9.]), array([ 8., 10.,  3.,  8., 11., 13., 10., 12.,  5., 13., 13.,  6., 12.,\n",
      "       11.,  8.,  6.,  8.,  7.,  4.,  5.,  7., 10.,  1.,  2., 10., 12.,\n",
      "       13.,  7., 12., 10.,  8., 13.,  5.,  6.,  8., 11.,  3.,  9., 13.,\n",
      "        4.]), array([ 1., 11.,  9.,  3.,  6.,  8.,  5., 13., 10., 10.,  4.,  2.,  7.,\n",
      "       11.,  7., 11.,  9.,  4.,  3.,  5., 13.,  3.,  1.,  9.,  8., 13.,\n",
      "        2., 10.,  7.,  5.,  9.,  7.,  9., 11.,  4., 12.,  2.,  9.,  1.,\n",
      "        1.]), array([13., 11.,  9., 10.,  4.,  6., 11.,  2.,  9.,  8., 13., 12.,  4.,\n",
      "       11., 11.,  1.,  4.,  9., 10., 11.,  9., 11., 13.,  1.,  8., 12.,\n",
      "        2.,  2.,  6., 11., 12.,  8., 11.,  8.,  7.,  2.,  3.,  9.,  3.,\n",
      "        2.]), array([ 8.,  2., 12., 10., 11.,  3.,  7.,  5.,  2.,  6.,  6.,  9.,  8.,\n",
      "        7.,  2.,  7., 13.,  2.,  7., 12., 13.,  4.,  2.,  6.,  6.,  6.,\n",
      "        5.,  6.,  9., 12., 10.,  4.,  2.,  9., 13.,  6.,  6., 12., 10.,\n",
      "       10.]), array([10.,  5., 12.,  5.,  2.,  8., 10.,  8., 12., 10., 13.,  9.,  4.,\n",
      "        7., 10.,  8., 11.,  9.,  9.,  8.,  6.,  8.,  5.,  7.,  2.,  1.,\n",
      "        1., 10.,  5.,  8., 10., 13., 13., 13., 13., 12.,  5.,  4.,  5.,\n",
      "       12.]), array([ 8.,  7.,  3., 10., 12.,  3.,  1.,  9., 10.,  1.,  3., 13.,  9.,\n",
      "       12.,  8.,  2., 13.,  7., 10.,  3., 11., 10., 12.,  6., 13.,  8.,\n",
      "        7.,  1.,  9., 11.,  5., 13.,  1.,  9., 11.,  9.,  3.,  8.,  1.,\n",
      "        3.])]\n"
     ]
    }
   ],
   "source": [
    "Population = generate_population()\n",
    "# divide the population into 2 subpopulations\n",
    "Monarch1 = Population[:10]\n",
    "Monarch2 = Population[10:]"
   ]
  },
  {
   "cell_type": "markdown",
   "metadata": {},
   "source": [
    "## OPTIMISATION\n",
    "Copier la population d'origine pour généré des enfants selon les deux critères de l'algorithme monarch. \n",
    "\n",
    "Recréer la population totale a 20 individus en rajoutant tous les indivus des rang les plus proches du front paret d'abord puis remplir avec les rangs plus dominés\n",
    "\n",
    "Critère d'arrêt : 15 itération du Monarch (permet de généré un pareto fort efficace en peu de temps)"
   ]
  },
  {
   "cell_type": "code",
   "execution_count": 9,
   "metadata": {},
   "outputs": [
    {
     "name": "stdout",
     "output_type": "stream",
     "text": [
      "Elapsed time:  4.0902769565582275\n"
     ]
    },
    {
     "data": {
      "image/png": "[encoded data removed]",
      "text/plain": [
       "<Figure size 800x600 with 1 Axes>"
      ]
     },
     "metadata": {},
     "output_type": "display_data"
    }
   ],
   "source": [
    "a = 0\n",
    "start_time = time.time()\n",
    "while a < 15:\n",
    "    p = 0.25\n",
    "    NP1 = deepcopy(Monarch1)\n",
    "    NP2 = deepcopy(Monarch2)\n",
    "    migration_operator(NP1, NP2, p)\n",
    "    adjusting_operator(NP1, NP2, p)\n",
    "    AllMonarchs = NP1 + NP2 + Population\n",
    "    UnsortedMonarchs = deepcopy(AllMonarchs)\n",
    "    Population = []\n",
    "    while len(Population) < 20:\n",
    "        # tant que la population n'est pas pleine, appeler la fonction de tri pour extirper les monarques les moins dominés \n",
    "        Front, UnsortedMonarchs = domination_sort(UnsortedMonarchs)\n",
    "        Population += Front\n",
    "    Population = Population[:20]\n",
    "    Monarch1 = Population[:10]\n",
    "    Monarch2 = Population[10:]\n",
    "    a+=1\n",
    "end_time = time.time()\n",
    "\n",
    "elapsed_time = end_time - start_time\n",
    "print(\"Elapsed time: \", elapsed_time)\n",
    "\n",
    "cost_pareto = []\n",
    "time_pareto = []\n",
    "for i in (Population):\n",
    "    cost_pareto.append(cost(i))\n",
    "    time_pareto.append(delay(i))\n",
    "\n",
    "# Tracez le graphique de Pareto avec les points individuels\n",
    "plt.figure(figsize=(8, 6))\n",
    "plt.plot(cost_pareto, time_pareto, marker='o', linestyle='', color='b')  # En absisse le coût et en ordonnée le temps\n",
    "plt.title('Graphique de Pareto')\n",
    "plt.xlabel('Coût')\n",
    "plt.ylabel('Temps')\n",
    "plt.grid(True)\n",
    "plt.show()"
   ]
  },
  {
   "cell_type": "markdown",
   "metadata": {},
   "source": [
    "# Conclusion\n",
    "\n",
    "Le monarch permet de généré des front pareto de manière assez hasardeuse, il y a beaucoup de chance d'obtenir des regroupement par minimum locaux. De plus un pareto assez représentatif est meilleur avec 15 itérations de l'algorithme et un paramètre de copie p des meilleurs solutions à 0.25. L'algorithme met environ 3.6 secondes, soit plus que le levy flight."
   ]
  }
 ],
 "metadata": {
  "kernelspec": {
   "display_name": "Python 3",
   "language": "python",
   "name": "python3"
  },
  "language_info": {
   "codemirror_mode": {
    "name": "ipython",
    "version": 3
   },
   "file_extension": ".py",
   "mimetype": "text/x-python",
   "name": "python",
   "nbconvert_exporter": "python",
   "pygments_lexer": "ipython3",
   "version": "3.12.1"
  }
 },
 "nbformat": 4,
 "nbformat_minor": 2
}
