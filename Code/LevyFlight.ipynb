{
 "cells": [
  {
   "cell_type": "markdown",
   "metadata": {},
   "source": [
    "# Projet d'optimisation pour du \"task offloading\" avec Levy Flight\n",
    "\n",
    "## Problème d'optimisation\n",
    "\n",
    "Le problème d'optimisation fait suite à l'amélioration exponentielle du Big Data, (IOT, véhicules autonomes ...) qui font que le nombre de données en temps réel est de plus en plus important. Le nombre de données en temps réel (flux) devant être traitées rapidement a explosé.\n",
    "\n",
    "Les clouds fournient de nombreuses ressources pour des calculs massifs. Cependant, les clouds centralisées sont surchargés par les flux de données, ce qui entraîne une consommation d'énergie importante et des retards.\n",
    "\n",
    "C'est pour cette raison que l'on utilise désormais le fog computing, dont l'architecture permet de déterminer où le calcul doit être effectué : sur la machine locale, sur le fog layer ou sur le cloud. Le fog layer comprend des\n",
    "routeurs, des commutateurs et des micro-serveurs (fog node) qui sont plus proches de la machine locale que le cloud, et qui peuvent être utilisés par les utilisateurs. \n",
    "\n",
    "Notre objectif est de développer un programme qui associe les fognode fN aux tâches à effectuer.\n",
    "\n",
    "Nous avons pour cela modéliser notre problème comme suit :\n",
    "\n",
    "$$\\min\\limits_{X_i} \\sum\\limits_{i = 1}^N X_i\\frac{P_i-P^{min}}{P^{max}-P^{min}}$$\n",
    "$$\\min\\limits_{X_i} \\sum\\limits_{i = 1}^N X_i\\frac{D_i-D^{min}}{D^{max}-D^{min}}$$\n",
    "$$ s.t. \\sum\\limits_{i = 1}^N X_i-M=0$$\n",
    "$$\\sum\\limits_{i = 1}^N \\frac{B_i}{B_{i,S}} \\quad \\quad - 1 < 0 \\\\$$\n",
    "$$W_j \\in [0,1], \\forall j \\in \\{1, 2, 3\\}\\\\$$\n",
    "$$T_{j,i} \\in [0,1], \\forall j \\in \\{1, 2, 3\\}, \\forall i \\in [\\![1, N]\\!]\\\\$$\n",
    "$$X_i \\in \\{0,1\\}, \\forall i \\in [\\![1, N]\\!]\\\\$$\n",
    "\n",
    "$P_i = P_i*\\frac{l\\tau_i}{f_i}$ la puissance pour traiter l bit de donnée sachant que 1 bit de donnée est traités sur $\\tau_i$ cycle de CPU sur la fréquence du CPU (afin de déterminer le temps de calcul nécessaire pour l bits) fois la puissance requise pour un cycle $P_i*$. $P^{min}$ et $D^{min}$ représentent respectivement les FN de tout le système avec la plus petite puissance consommé et le retard le plus court, à l'inverse, $P^{max}$ et $D^{max}$ représentent respectivement les FN de tout le système avec la plus grande puissance consommé et le retard le plus long, le but est de normalisé les valeurs. \n",
    "\n",
    "$D_i$ est déterminé avec des courbe de service d'entré et de sortie déterminé par du calcul de réseau.\n",
    "\n",
    "La première fonction objectif permet de minimiser la puissance consommé lors dans l'assignation. La seconde contrainte est la minimisation du retard totale du système. La première contrainte permet d'allouer exactement M FN au M taches. La quatrième permet de vérifier que la taille de traitement d'opération disponible dans le FN (buffer $B_{i,S}$) est suffisante pour traiter la taille de la tache $B_i$. \n",
    "\n",
    "Or ce problème suppose que le problème d'allocation d'une tache à un FN signifie que tous les FN ne seront pas alloué et que toutes les tâches soient les mêmes, c'est à dire : pour 4 sous taches répparti sur 7 FN disponibles, je dois trouver une solution de la forme [1, 1, 1, 1, 0, 0, 0] optimal. Cependant, nous voyons clairement sur la recherche que pour des FN identiques assignés à des tâches différentes, la valeur d'assignement est différente : \n",
    "\n",
    "<img src=\"table_assignement_FN.PNG\" alt=\"assignement FN\" height=\"300\" />\n",
    "\n",
    "\n",
    "Ce qui signifie que chaque tâches réparties entre les FN ont des caractéristiques différentes.\n",
    "\n",
    "C'est pour cette raison que nous cherchons plutôt à modéliser les solutions sous la forme d'un tableau de toutes les tâches alloués au FN choisi de la forme [FN1, FN3, FN4, FN2, FN1] ou le premier indice indique la première tâche et le nième indice indique la nième tâche.\n",
    "\n",
    "Nous pouvons donc réécrire le problème :\n",
    "\n",
    "$$\\min\\limits_{X_{i,j}} \\sum\\limits_{i = 1}^N X_{i,j}P_{i,j}$$\n",
    "$$\\min\\limits_{X_{i,j}} \\sum\\limits_{i = 1}^N X_{i,j}D_{i,j}$$\n",
    "$$ s.t. \\sum\\limits_{i = 1}^N X_{i,j}-M=0$$\n",
    "$$\\sum\\limits_{i = 1}^N \\frac{B_{i,j}}{B_{i,j,S}} \\quad \\quad - 1 < 0 \\\\$$\n",
    "$$\\sum\\limits_{i = 1}^N X_{i,j} = \\sum\\limits_{j = 1}^M X_{i,j} = 1\\\\$$\n",
    "$$X_i \\in \\{0,1\\}, \\forall i \\in [\\![1, N]\\!]\\\\$$\n",
    "\n",
    "\n",
    "Ainsi nous travaillerons sur un environnement similaire fournis par les tableau de Cost et de temps d'éxecution. Nous supposerons aussi que la contrainte du buffer est naturellement respectée.\n",
    "\n",
    "## Algorithme d'optimisation Levy Flight\n",
    "\n",
    "Cet algorithme s'inspire du comportement erratique des animaux lorsqu'ils cherchent de la nourriture en faisant des petit pas puis des grand pas moins souvent pour modifier l'environnement total. En imitant ce comportement, notre algorithme cherche à ne pas rester coincé dans des minimum locaux.\n",
    "\n",
    "\n",
    "<img src=\"levy_flight_animal.PNG\" alt=\"Levy Flight\" height=\"300\" />\n",
    "\n",
    "Pour faire correspondre l'algorithme Levy Flight au problème spécifique, Nous avons défini les étapes de process comme suit :\n",
    "\n",
    "- Générer une solution aléatoire avec un tableau de N indice (pour N tâches) avec un FN attitré\n",
    "- Générer un nombre aléatoire selon une gaussienne \n",
    "    - si ce nombre est petit alors faire peu de modifications aléatoires\n",
    "    - si ce nombre est grand alors faire beaucoups de modifications aléatoires à la fois\n",
    "- Évaluer la nouvelle solution\n",
    "- Si cette solution n'est pas dominé par les anciennes solutions, la rajouter au solution non dominé\n",
    "- Si cette solution domine des solutions déjà enregistrée, retirer les anciennes solutions\n",
    "- Critère d'arrêt : Nombre de solution non dominé suffisamment nombreuse pour créer le front pareto\n",
    "\n",
    "La principale caractéritisque de cette méthode est le nombre de modification de la solution que l'on effectue suivant les probabilité d'une gaussienne qui s'inspire de la probabilité d'un oiseau de faire des grands sauts,  plus le nombre aléatoire est éloigné de la moyenne établie, plus la probabilité de randomiser toute la solution existante est grande.\n",
    "\n",
    "\n",
    "\n"
   ]
  },
  {
   "cell_type": "code",
   "execution_count": 1,
   "metadata": {},
   "outputs": [],
   "source": [
    "import numpy as np\n",
    "import matplotlib.pyplot as plt\n",
    "from copy import deepcopy\n",
    "import time"
   ]
  },
  {
   "cell_type": "markdown",
   "metadata": {},
   "source": [
    "## Deux datasets CostTable et ExecutionTable\n",
    "\n",
    "CostTable représente le cout énergétique d'éxécuter chaque tâche sur chacun des FN.\n",
    "\n",
    "ExecutionTable représente le délai d'éxecution de chaque tâche sur chaque FN.\n",
    "\n"
   ]
  },
  {
   "cell_type": "code",
   "execution_count": 2,
   "metadata": {},
   "outputs": [],
   "source": [
    "cost_table = np.genfromtxt('CostTable40.csv', delimiter=',', skip_header=1)\n",
    "cost_table = cost_table[:, 1:] # clean le dataset\n",
    "execution_table = np.genfromtxt('ExecutionTable40.csv', delimiter=',', skip_header=1)\n",
    "execution_table = execution_table[:, 1:] # clean le dataset"
   ]
  },
  {
   "cell_type": "markdown",
   "metadata": {},
   "source": [
    "On retiendra dans notre algorithme divers solutions tant qu'elle seront non dominé pour créer un front pareto"
   ]
  },
  {
   "cell_type": "code",
   "execution_count": 3,
   "metadata": {},
   "outputs": [],
   "source": [
    "Solutions_retenues = []"
   ]
  },
  {
   "cell_type": "code",
   "execution_count": 4,
   "metadata": {},
   "outputs": [],
   "source": [
    "# Génerer une allocation aléatoire en donnant une liste de même temps que le nombre de tâche\n",
    "def generate_allocation(allocation: list):\n",
    "    for i in range (0, len(cost_table[0])):\n",
    "        allocation[i] = np.random.randint(1, len(cost_table)+1)\n"
   ]
  },
  {
   "cell_type": "markdown",
   "metadata": {},
   "source": [
    "On crée une fonction qui évalue le cout de notre allocation et une fonction qui évalue le temps total.\n",
    "\n",
    "Le temps total est évalué comme suit : Chaque Tache rentrera à peu près en même temps dans tous les FN donc le délai total du système correspond au délai du FN qui prendra le plus de retard:\n",
    "\n",
    "$D = max({D_i}  \\forall i \\in M)$"
   ]
  },
  {
   "cell_type": "code",
   "execution_count": 5,
   "metadata": {},
   "outputs": [],
   "source": [
    "# fonction pour évaluer la solution sur la fonction objectif de consommation de puissance\n",
    "def cost(allocation):\n",
    "    Total_Cost = 0\n",
    "    for i in range(len(allocation)):\n",
    "        task = i\n",
    "        node = allocation[i] -1\n",
    "        Total_Cost += cost_table[node, task]\n",
    "    return Total_Cost\n",
    "\n",
    "# fonction pour évaluer la solution sur la fonction objectif de temps\n",
    "def delay(allocation):\n",
    "    Total_Time, N1_Time, N2_Time, N3_Time, N4_Time, N5_Time, N6_Time, N7_Time, N8_Time, N9_Time, N10_Time, N11_Time, N12_Time, N13_Time = 0,0,0,0,0,0,0,0,0,0,0,0,0,0\n",
    "    for i in range(len(allocation)):\n",
    "        task = i\n",
    "        node = int(allocation[i])\n",
    "        if node == 1:\n",
    "            N1_Time +=  execution_table[node -1, task]\n",
    "        elif node == 2:\n",
    "            N2_Time +=  execution_table[node -1, task]\n",
    "        elif node == 3:\n",
    "            N3_Time +=  execution_table[node -1, task]\n",
    "        elif node == 4:\n",
    "            N4_Time +=  execution_table[node -1, task]\n",
    "        elif node == 5:\n",
    "            N5_Time +=  execution_table[node -1, task]\n",
    "        elif node == 6:\n",
    "            N6_Time +=  execution_table[node -1, task]\n",
    "        elif node == 7:\n",
    "            N7_Time +=  execution_table[node -1, task]\n",
    "        elif node == 8:\n",
    "            N8_Time +=  execution_table[node -1, task]\n",
    "        elif node == 9:\n",
    "            N9_Time +=  execution_table[node -1, task]\n",
    "        elif node == 10:\n",
    "            N10_Time +=  execution_table[node -1, task]\n",
    "        elif node == 11:\n",
    "            N11_Time +=  execution_table[node -1, task]\n",
    "        elif node == 12:\n",
    "            N12_Time +=  execution_table[node -1, task]\n",
    "        elif node == 13:\n",
    "            N13_Time +=  execution_table[node -1, task]\n",
    "    Total_Time = max(N1_Time, N2_Time, N3_Time, N4_Time, N5_Time, N6_Time, N7_Time, N8_Time, N9_Time, N10_Time, N11_Time, N12_Time, N13_Time)\n",
    "    return Total_Time"
   ]
  },
  {
   "cell_type": "markdown",
   "metadata": {},
   "source": [
    "## Créer une Gaussienne \n",
    "De cette manière, nous pouvons contrôler la distribution de la gaussienne visuellement."
   ]
  },
  {
   "cell_type": "code",
   "execution_count": 6,
   "metadata": {},
   "outputs": [
    {
     "data": {
      "image/png": "[encoded data removed]",
      "text/plain": [
       "<Figure size 640x480 with 1 Axes>"
      ]
     },
     "metadata": {},
     "output_type": "display_data"
    }
   ],
   "source": [
    "# visualisation de la gaussienne choisie\n",
    "mu, sigma = 0, 1\n",
    "s = np.random.normal(mu, sigma, 1000)\n",
    "count, bins, ignored = plt.hist(s, 30, density=True)\n",
    "plt.plot(bins, 1/(sigma * np.sqrt(2 * np.pi)) *\n",
    "               np.exp( - (bins - mu)**2 / (2 * sigma**2) ),\n",
    "         linewidth=2, color='r')\n",
    "plt.show()"
   ]
  },
  {
   "cell_type": "markdown",
   "metadata": {},
   "source": [
    "## LEVY FLIGHT \n",
    "En fonction du pourcentage de chance de tirer une solution, on permet à chaque tâche d'être randomiser par un tirage qui doit être inférieur à n, plus les pas sont petits, plus n est petit, moins de transformations opèrent."
   ]
  },
  {
   "cell_type": "code",
   "execution_count": 7,
   "metadata": {},
   "outputs": [],
   "source": [
    "# modifier les valeurs dans les solutions\n",
    "def shuffle_allocation(n, allocation):\n",
    "    for i in range (0, len(cost_table[0])):\n",
    "        # tirer un nombre au hasard entre 0 et 1\n",
    "        tirage = np.random.rand()\n",
    "        if tirage <= n:\n",
    "            allocation[i] = np.random.randint(1, len(cost_table)+1)\n",
    "        \n",
    "# modifier notre solution par le levy flight    \n",
    "def levyFlight(allocation):\n",
    "    number = np.random.normal(mu, sigma)\n",
    "    taux = abs(number)\n",
    "    if taux > 3*sigma: #très grand normal 1% de chance\n",
    "        generate_allocation(allocation)\n",
    "    elif taux > 2*sigma: # grand pas 5% de chance\n",
    "        shuffle_allocation(0.75, allocation)\n",
    "    elif taux > sigma: # moyen pas\n",
    "        shuffle_allocation(0.5, allocation)\n",
    "    else: \n",
    "        shuffle_allocation(0.25, allocation)\n",
    "    return allocation\n"
   ]
  },
  {
   "cell_type": "markdown",
   "metadata": {},
   "source": [
    "## Solution généré par le Levy Flight\n",
    "\n",
    "Une fois obtenue, la solution est testé pour savoir à quel rang elle appartient. Si elle est dans le front pareto, elle ne sera pas dominé et rejoindra les 20 solutions retenues, elle pourrait aussi retirer des solutions qu'elle dominera. Si elle est dominé par n'importe quelles autres solutions déjà retenues, alors elle ne sera pas utilisé."
   ]
  },
  {
   "cell_type": "code",
   "execution_count": 8,
   "metadata": {},
   "outputs": [],
   "source": [
    "# évaluer si la solution est dominée\n",
    "def is_dominated(allocation1, allocation2):\n",
    "    \n",
    "    new_Total_Cost = cost(allocation1)\n",
    "    new_Total_Time = delay(allocation1)\n",
    "    old_Total_Cost = cost(allocation2)\n",
    "    old_Total_Time = delay(allocation2)\n",
    "    if new_Total_Cost > old_Total_Cost and new_Total_Time > old_Total_Time:\n",
    "        return True\n",
    "    else:\n",
    "        return False\n",
    "# série de test pour mettre à jour les solutions retenues\n",
    "def TestSolution(New_Allocation, Solutions_retenues):\n",
    "    for solution in Solutions_retenues:\n",
    "        if is_dominated(New_Allocation, solution):\n",
    "            return\n",
    "        elif is_dominated(solution, New_Allocation):\n",
    "            Solutions_retenues.remove(solution)\n",
    "    Solutions_retenues.append(New_Allocation)\n",
    "    \n"
   ]
  },
  {
   "cell_type": "markdown",
   "metadata": {},
   "source": [
    "## INITIALISATION\n",
    "On créer une allocation de task a des node aléatoire"
   ]
  },
  {
   "cell_type": "code",
   "execution_count": 9,
   "metadata": {},
   "outputs": [],
   "source": [
    "First_allocation = [0] * len(cost_table[0])\n",
    "generate_allocation(First_allocation) # première allocation généré aléatoirement\n",
    "Solutions_retenues.append(First_allocation)"
   ]
  },
  {
   "cell_type": "markdown",
   "metadata": {},
   "source": [
    "## Optimization\n",
    "Depuis la dernière solution calculer : en générer une nouvelle.\n",
    "\n",
    "Faire rentrer ou non cette solution parmi celles retenues\n",
    "\n",
    "Critère d'arrêt : Générer 20 solutions non dominées. "
   ]
  },
  {
   "cell_type": "code",
   "execution_count": 10,
   "metadata": {},
   "outputs": [],
   "source": [
    "start_time = time.time()\n",
    "while(len(Solutions_retenues) < 20): # On retient les 20 première meilleures solutions non dominées\n",
    "    New_Allocation = deepcopy(First_allocation)\n",
    "    New_Allocation = levyFlight(New_Allocation)\n",
    "    TestSolution(New_Allocation, Solutions_retenues)\n",
    "    First_allocation = deepcopy(New_Allocation)\n",
    "end_time = time.time()"
   ]
  },
  {
   "cell_type": "code",
   "execution_count": 11,
   "metadata": {},
   "outputs": [
    {
     "name": "stdout",
     "output_type": "stream",
     "text": [
      "Elapsed time:  7.098155975341797\n"
     ]
    }
   ],
   "source": [
    "elapsed_time = end_time - start_time # calcul du temps de l'algorithme\n",
    "print(\"Elapsed time: \", elapsed_time)"
   ]
  },
  {
   "cell_type": "markdown",
   "metadata": {},
   "source": [
    "## Visualisation \n",
    "\n",
    "Visuel du front pareto une fois le Levy Flight terminé"
   ]
  },
  {
   "cell_type": "code",
   "execution_count": 12,
   "metadata": {},
   "outputs": [
    {
     "data": {
      "image/png": "[encoded data removed]",
      "text/plain": [
       "<Figure size 800x600 with 1 Axes>"
      ]
     },
     "metadata": {},
     "output_type": "display_data"
    }
   ],
   "source": [
    "cost_pareto = []\n",
    "time_pareto = []\n",
    "for i in (Solutions_retenues):\n",
    "    cost_pareto.append(cost(i))\n",
    "    time_pareto.append(delay(i))\n",
    "\n",
    "# Graphique de Pareto \n",
    "plt.figure(figsize=(8, 6))\n",
    "plt.plot(cost_pareto, time_pareto, marker='o', linestyle='', color='b')  # En absisse le coût et en ordonnée le temps\n",
    "plt.title('Graphique de Pareto')\n",
    "plt.xlabel('Coût')\n",
    "plt.ylabel('Temps')\n",
    "plt.grid(True)\n",
    "plt.show()"
   ]
  },
  {
   "cell_type": "markdown",
   "metadata": {},
   "source": [
    "# Conclusion\n",
    "\n",
    "Le levy Flight permet de généré un front pareto assez fluide en environ 2.5 secondes, les solutions sont bien répartie grace au saut long.\n"
   ]
  }
 ],
 "metadata": {
  "kernelspec": {
   "display_name": "Python 3",
   "language": "python",
   "name": "python3"
  },
  "language_info": {
   "codemirror_mode": {
    "name": "ipython",
    "version": 3
   },
   "file_extension": ".py",
   "mimetype": "text/x-python",
   "name": "python",
   "nbconvert_exporter": "python",
   "pygments_lexer": "ipython3",
   "version": "3.12.1"
  }
 },
 "nbformat": 4,
 "nbformat_minor": 2
}
